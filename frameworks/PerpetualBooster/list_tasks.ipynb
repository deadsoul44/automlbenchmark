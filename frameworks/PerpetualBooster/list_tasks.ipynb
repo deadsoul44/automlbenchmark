{
 "cells": [
  {
   "cell_type": "code",
   "execution_count": null,
   "metadata": {},
   "outputs": [],
   "source": [
    "import openml\n",
    "import pandas as pd"
   ]
  },
  {
   "cell_type": "code",
   "execution_count": null,
   "metadata": {},
   "outputs": [],
   "source": [
    "pd.set_option('display.max_columns', 500)"
   ]
  },
  {
   "cell_type": "code",
   "execution_count": null,
   "metadata": {},
   "outputs": [],
   "source": [
    "task_type = openml.tasks.TaskType.SUPERVISED_REGRESSION\n",
    "df_reg = openml.tasks.list_tasks(task_type=task_type, output_format=\"dataframe\")\n",
    "df_reg.head()"
   ]
  },
  {
   "cell_type": "code",
   "execution_count": null,
   "metadata": {},
   "outputs": [],
   "source": [
    "df_reg.sort_values([\"NumberOfInstances\", \"name\"], inplace=True, ascending=False)\n",
    "df_reg = df_reg[df_reg[\"NumberOfClasses\"]==0.0]\n",
    "df_reg = df_reg[df_reg[\"estimation_procedure\"]==\"10-fold Crossvalidation\"]\n",
    "df_reg = df_reg[df_reg['name'].str.contains(\"simulated\")==False]\n",
    "df_reg.head(50)"
   ]
  },
  {
   "cell_type": "code",
   "execution_count": null,
   "metadata": {},
   "outputs": [],
   "source": [
    "task_type = openml.tasks.TaskType.SUPERVISED_CLASSIFICATION\n",
    "df_cls = openml.tasks.list_tasks(task_type=task_type, output_format=\"dataframe\")\n",
    "df_cls.head()"
   ]
  },
  {
   "cell_type": "code",
   "execution_count": null,
   "metadata": {},
   "outputs": [],
   "source": [
    "df_cls[\"n_classes_times_n_rows\"] = df_cls[\"NumberOfClasses\"] * df_cls[\"NumberOfInstances\"]"
   ]
  },
  {
   "cell_type": "code",
   "execution_count": null,
   "metadata": {},
   "outputs": [],
   "source": [
    "df_cls.sort_values([\"n_classes_times_n_rows\", \"name\"], inplace=True, ascending=False)\n",
    "df_cls = df_cls[df_cls[\"estimation_procedure\"]==\"10-fold Crossvalidation\"]\n",
    "df_cls = df_cls[df_cls['name'].str.contains(\"simulated\")==False]\n",
    "df_cls.head(50)"
   ]
  }
 ],
 "metadata": {
  "kernelspec": {
   "display_name": "Python 3",
   "language": "python",
   "name": "python3"
  },
  "language_info": {
   "codemirror_mode": {
    "name": "ipython",
    "version": 3
   },
   "file_extension": ".py",
   "mimetype": "text/x-python",
   "name": "python",
   "nbconvert_exporter": "python",
   "pygments_lexer": "ipython3",
   "version": "3.10.12"
  }
 },
 "nbformat": 4,
 "nbformat_minor": 2
}
